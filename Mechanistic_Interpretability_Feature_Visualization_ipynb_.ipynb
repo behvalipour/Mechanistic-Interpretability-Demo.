{
  "nbformat": 4,
  "nbformat_minor": 0,
  "metadata": {
    "colab": {
      "provenance": [],
      "gpuType": "T4"
    },
    "kernelspec": {
      "name": "python3",
      "display_name": "Python 3"
    },
    "language_info": {
      "name": "python"
    },
    "accelerator": "GPU"
  },
  "cells": [
    {
      "cell_type": "code",
      "execution_count": 1,
      "metadata": {
        "colab": {
          "base_uri": "https://localhost:8080/"
        },
        "id": "NXY6WPEO91uD",
        "outputId": "9f80804e-861d-44ec-9989-e1f4a7a74254"
      },
      "outputs": [
        {
          "output_type": "stream",
          "name": "stdout",
          "text": [
            "Using device: cuda\n"
          ]
        }
      ],
      "source": [
        "import torch\n",
        "import torch.nn as nn\n",
        "import torch.nn.functional as F\n",
        "import torch.optim as optim\n",
        "from torchvision import datasets, transforms\n",
        "import numpy as np\n",
        "import matplotlib.pyplot as plt\n",
        "from IPython.display import clear_output # For cleaner output during optimization\n",
        "\n",
        "# Device configuration (GPU if available)\n",
        "device = torch.device(\"cuda\" if torch.cuda.is_available() else \"cpu\")\n",
        "\n",
        "print(f\"Using device: {device}\")"
      ]
    },
    {
      "cell_type": "code",
      "source": [
        "# Model Definition and Training (Quick MNIST)\n",
        "\n",
        "# Define the simple CNN architecture\n",
        "class Net(nn.Module):\n",
        "    def __init__(self):\n",
        "        super(Net, self).__init__()\n",
        "        self.conv1 = nn.Conv2d(1, 10, kernel_size=5)\n",
        "        self.conv2 = nn.Conv2d(10, 20, kernel_size=5)\n",
        "        self.conv2_drop = nn.Dropout2d()\n",
        "        self.fc1 = nn.Linear(320, 50)\n",
        "        self.fc2 = nn.Linear(50, 10)\n",
        "\n",
        "    def forward(self, x):\n",
        "        x = F.relu(F.max_pool2d(self.conv1(x), 2)) # Layer to interpret (conv1)\n",
        "        x = F.relu(F.max_pool2d(self.conv2_drop(self.conv2(x)), 2)) # Layer to interpret (conv2)\n",
        "        x = x.view(-1, 320)\n",
        "        x = F.relu(self.fc1(x))\n",
        "        x = F.dropout(x, training=self.training)\n",
        "        x = self.fc2(x)\n",
        "        return F.log_softmax(x, dim=1)\n",
        "\n",
        "# MNIST Data Loaders\n",
        "# We only need the training loader to train the model quickly\n",
        "train_loader = torch.utils.data.DataLoader(\n",
        "    datasets.MNIST('../data', train=True, download=True, transform=transforms.Compose([\n",
        "            transforms.ToTensor(),\n",
        "            ])),\n",
        "    batch_size=64, shuffle=True)\n",
        "\n",
        "# Initialize the model\n",
        "model = Net().to(device)\n",
        "optimizer = optim.Adam(model.parameters(), lr=0.01) # Use Adam for faster convergence\n",
        "epochs = 3 # A few epochs is enough for demonstration\n",
        "\n",
        "# Function to train the model\n",
        "def train(model, device, train_loader, optimizer, epoch):\n",
        "    model.train() # Set model to training mode\n",
        "    for batch_idx, (data, target) in enumerate(train_loader):\n",
        "        data, target = data.to(device), target.to(device)\n",
        "        optimizer.zero_grad()\n",
        "        output = model(data)\n",
        "        loss = F.nll_loss(output, target)\n",
        "        loss.backward()\n",
        "        optimizer.step()\n",
        "        if batch_idx % 100 == 0:\n",
        "            print(f'Train Epoch: {epoch} [{batch_idx * len(data)}/{len(train_loader.dataset)} ({100. * batch_idx / len(train_loader):.0f}%)]\\tLoss: {loss.item():.6f}')\n",
        "\n",
        "print(\"Starting quick model training for interpretability demo...\")\n",
        "for epoch in range(1, epochs + 1):\n",
        "    train(model, device, train_loader, optimizer, epoch)\n",
        "\n",
        "# Crucial: Set the model to evaluation mode after training, and freeze its parameters\n",
        "# We don't want the model's weights to change during visualization\n",
        "model.eval()\n",
        "for param in model.parameters():\n",
        "    param.requires_grad = False\n",
        "\n",
        "print(\"\\nModel training complete and frozen for interpretation.\")"
      ],
      "metadata": {
        "colab": {
          "base_uri": "https://localhost:8080/"
        },
        "id": "EuQJS8py-8ln",
        "outputId": "c43c28c3-c947-45e9-a0dd-a8b5270cd682"
      },
      "execution_count": 2,
      "outputs": [
        {
          "output_type": "stream",
          "name": "stderr",
          "text": [
            "100%|██████████| 9.91M/9.91M [00:00<00:00, 17.9MB/s]\n",
            "100%|██████████| 28.9k/28.9k [00:00<00:00, 479kB/s]\n",
            "100%|██████████| 1.65M/1.65M [00:00<00:00, 4.44MB/s]\n",
            "100%|██████████| 4.54k/4.54k [00:00<00:00, 11.9MB/s]\n"
          ]
        },
        {
          "output_type": "stream",
          "name": "stdout",
          "text": [
            "Starting quick model training for interpretability demo...\n",
            "Train Epoch: 1 [0/60000 (0%)]\tLoss: 2.301575\n",
            "Train Epoch: 1 [6400/60000 (11%)]\tLoss: 0.888748\n",
            "Train Epoch: 1 [12800/60000 (21%)]\tLoss: 0.422770\n",
            "Train Epoch: 1 [19200/60000 (32%)]\tLoss: 0.410639\n",
            "Train Epoch: 1 [25600/60000 (43%)]\tLoss: 0.211572\n",
            "Train Epoch: 1 [32000/60000 (53%)]\tLoss: 0.156962\n",
            "Train Epoch: 1 [38400/60000 (64%)]\tLoss: 0.225517\n",
            "Train Epoch: 1 [44800/60000 (75%)]\tLoss: 0.228848\n",
            "Train Epoch: 1 [51200/60000 (85%)]\tLoss: 0.399617\n",
            "Train Epoch: 1 [57600/60000 (96%)]\tLoss: 0.870866\n",
            "Train Epoch: 2 [0/60000 (0%)]\tLoss: 0.391358\n",
            "Train Epoch: 2 [6400/60000 (11%)]\tLoss: 0.165578\n",
            "Train Epoch: 2 [12800/60000 (21%)]\tLoss: 0.249694\n",
            "Train Epoch: 2 [19200/60000 (32%)]\tLoss: 0.711615\n",
            "Train Epoch: 2 [25600/60000 (43%)]\tLoss: 0.413608\n",
            "Train Epoch: 2 [32000/60000 (53%)]\tLoss: 0.192085\n",
            "Train Epoch: 2 [38400/60000 (64%)]\tLoss: 0.211915\n",
            "Train Epoch: 2 [44800/60000 (75%)]\tLoss: 0.227712\n",
            "Train Epoch: 2 [51200/60000 (85%)]\tLoss: 0.536449\n",
            "Train Epoch: 2 [57600/60000 (96%)]\tLoss: 0.255599\n",
            "Train Epoch: 3 [0/60000 (0%)]\tLoss: 0.342825\n",
            "Train Epoch: 3 [6400/60000 (11%)]\tLoss: 0.600238\n",
            "Train Epoch: 3 [12800/60000 (21%)]\tLoss: 0.387995\n",
            "Train Epoch: 3 [19200/60000 (32%)]\tLoss: 0.263028\n",
            "Train Epoch: 3 [25600/60000 (43%)]\tLoss: 0.294073\n",
            "Train Epoch: 3 [32000/60000 (53%)]\tLoss: 0.184326\n",
            "Train Epoch: 3 [38400/60000 (64%)]\tLoss: 0.229273\n",
            "Train Epoch: 3 [44800/60000 (75%)]\tLoss: 0.218581\n",
            "Train Epoch: 3 [51200/60000 (85%)]\tLoss: 0.199329\n",
            "Train Epoch: 3 [57600/60000 (96%)]\tLoss: 0.255511\n",
            "\n",
            "Model training complete and frozen for interpretation.\n"
          ]
        }
      ]
    },
    {
      "cell_type": "code",
      "source": [
        "# Feature Visualization Core Logic (FINAL CORRECTED VERSION)\n",
        "\n",
        "# --- Configuration for Visualization (keeping same target) ---\n",
        "target_layer = model.conv1\n",
        "target_channel = 5\n",
        "target_neuron_xy = (2, 2)\n",
        "\n",
        "# --- Hook Setup (same as final successful version) ---\n",
        "activations_store = []\n",
        "def hook_fn(module, input, output):\n",
        "    activations_store.clear()\n",
        "    activations_store.append(output)\n",
        "hook = target_layer.register_forward_hook(hook_fn)\n",
        "\n",
        "# --- Input Image Initialization (CRITICAL FIX 1: Start from Gray) ---\n",
        "# Start with a uniform gray image (0.5 value) for cleaner feature generation\n",
        "input_img = torch.full((1, 1, 28, 28), 0.5, requires_grad=True, device=device)\n",
        "\n",
        "# --- Optimization Parameters (CRITICAL FIX 2: Reduce Learning Rate) ---\n",
        "# Reduce learning rate significantly to avoid overshooting and getting stuck\n",
        "viz_optimizer = optim.Adam([input_img], lr=0.005)\n",
        "num_iterations = 400 # Increase iterations for finer detail\n",
        "# ---\n",
        "\n",
        "print(f\"Visualizing neuron in {target_layer.__class__.__name__}, channel {target_channel}, location {target_neuron_xy}...\")\n",
        "\n",
        "# --- Optimization Loop ---\n",
        "for i in range(num_iterations):\n",
        "    viz_optimizer.zero_grad()\n",
        "    model(input_img)\n",
        "\n",
        "    # Access the captured activation tensor\n",
        "    activations = activations_store[0]\n",
        "    neuron_activation = activations[0, target_channel, target_neuron_xy[0], target_neuron_xy[1]]\n",
        "\n",
        "    # Maximize the activation\n",
        "    (-neuron_activation).backward()\n",
        "\n",
        "    # Update the input image\n",
        "    viz_optimizer.step()\n",
        "\n",
        "    # --- Post-processing ---\n",
        "    # Clip pixel values to a valid range (0-1 for images)\n",
        "    input_img.data.clamp_(0, 1)\n",
        "\n",
        "    if (i+1) % 50 == 0:\n",
        "        print(f\"Iteration {i+1}/{num_iterations}, Activation: {neuron_activation.item():.4f}\")\n",
        "\n",
        "hook.remove()\n",
        "print(\"\\nFeature visualization optimization complete.\")"
      ],
      "metadata": {
        "colab": {
          "base_uri": "https://localhost:8080/"
        },
        "id": "0pPk7KNN_KIP",
        "outputId": "bcdb063b-f516-408c-c5e4-3f7f46756b2b"
      },
      "execution_count": 9,
      "outputs": [
        {
          "output_type": "stream",
          "name": "stdout",
          "text": [
            "Visualizing neuron in Conv2d, channel 5, location (2, 2)...\n",
            "Iteration 50/400, Activation: 0.0145\n",
            "Iteration 100/400, Activation: 1.5175\n",
            "Iteration 150/400, Activation: 1.5476\n",
            "Iteration 200/400, Activation: 1.5476\n",
            "Iteration 250/400, Activation: 1.5476\n",
            "Iteration 300/400, Activation: 1.5476\n",
            "Iteration 350/400, Activation: 1.5476\n",
            "Iteration 400/400, Activation: 1.5476\n",
            "\n",
            "Feature visualization optimization complete.\n"
          ]
        }
      ]
    },
    {
      "cell_type": "code",
      "source": [
        "# Visualize the Feature\n",
        "\n",
        "# Move the optimized image to CPU and convert to numpy for plotting\n",
        "visualized_feature = input_img.squeeze().detach().cpu().numpy()\n",
        "\n",
        "plt.figure(figsize=(5, 5))\n",
        "plt.imshow(visualized_feature, cmap='gray')\n",
        "plt.title(f\"Visualized Feature for Neuron in Layer {target_layer.__class__.__name__}, Channel {target_channel}\")\n",
        "plt.axis('off') # Hide axes for cleaner image\n",
        "plt.show()\n",
        "\n",
        "print(\"Successfully generated and visualized the feature.\")"
      ],
      "metadata": {
        "colab": {
          "base_uri": "https://localhost:8080/",
          "height": 461
        },
        "id": "Zq6Fyu0cACLI",
        "outputId": "19ebb970-c97a-4051-e30e-9bfe986d4289"
      },
      "execution_count": 10,
      "outputs": [
        {
          "output_type": "display_data",
          "data": {
            "text/plain": [
              "<Figure size 500x500 with 1 Axes>"
            ],
            "image/png": "[encoded data removed]"
          },
          "metadata": {}
        },
        {
          "output_type": "stream",
          "name": "stdout",
          "text": [
            "Successfully generated and visualized the feature.\n"
          ]
        }
      ]
    }
  ]
}